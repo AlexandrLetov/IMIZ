{
 "cells": [
  {
   "cell_type": "markdown",
   "metadata": {},
   "source": [
    "# Задание\n",
    "* Применить алгоритм балансировки классов к набору данных, использовавшемуся в заданиях 1 - 3.\n",
    "* Оценить качество классификаторов из заданий 1 - 3 на сбалансированном наборе данных.\n",
    "* Сравнить качество классификаторов, разработанных с применением несбалансированного и сбалансированного набора данных."
   ]
  },
  {
   "cell_type": "code",
   "execution_count": 99,
   "metadata": {},
   "outputs": [],
   "source": [
    "import pandas as pd\n",
    "import numpy as np\n",
    "from sklearn.preprocessing import MinMaxScaler, StandardScaler\n",
    "from imblearn.over_sampling import SMOTE\n",
    "from sklearn.model_selection import train_test_split\n",
    "from sklearn.neighbors import KNeighborsClassifier\n",
    "from sklearn.model_selection import GridSearchCV\n",
    "from sklearn.metrics import classification_report, confusion_matrix, accuracy_score, recall_score\n",
    "from sklearn import svm\n",
    "from sklearn.ensemble import RandomForestClassifier\n",
    "from sklearn.pipeline import Pipeline"
   ]
  },
  {
   "cell_type": "markdown",
   "metadata": {},
   "source": [
    "Загружаем датасет."
   ]
  },
  {
   "cell_type": "code",
   "execution_count": 100,
   "metadata": {},
   "outputs": [],
   "source": [
    "data = pd.read_csv('./Data/hepatitis.data', index_col=False, names=['Class', 'Age', 'Sex', 'Steroid', 'Antivrals', 'Fatigue', 'Malaise', 'Anorexia',\n",
    "                                                                    'Liver big', 'Liver firm', 'Spleen palpable', 'Spiders', 'Ascites', 'Varices', 'Bilirubin', 'Alk phosphate', 'Sgot', 'Albumin', 'Protime', 'Histology'])"
   ]
  },
  {
   "cell_type": "code",
   "execution_count": 101,
   "metadata": {},
   "outputs": [
    {
     "data": {
      "text/html": [
       "<div>\n",
       "<style scoped>\n",
       "    .dataframe tbody tr th:only-of-type {\n",
       "        vertical-align: middle;\n",
       "    }\n",
       "\n",
       "    .dataframe tbody tr th {\n",
       "        vertical-align: top;\n",
       "    }\n",
       "\n",
       "    .dataframe thead th {\n",
       "        text-align: right;\n",
       "    }\n",
       "</style>\n",
       "<table border=\"1\" class=\"dataframe\">\n",
       "  <thead>\n",
       "    <tr style=\"text-align: right;\">\n",
       "      <th></th>\n",
       "      <th>Class</th>\n",
       "      <th>Age</th>\n",
       "      <th>Sex</th>\n",
       "      <th>Steroid</th>\n",
       "      <th>Antivrals</th>\n",
       "      <th>Fatigue</th>\n",
       "      <th>Malaise</th>\n",
       "      <th>Anorexia</th>\n",
       "      <th>Liver big</th>\n",
       "      <th>Liver firm</th>\n",
       "      <th>Spleen palpable</th>\n",
       "      <th>Spiders</th>\n",
       "      <th>Ascites</th>\n",
       "      <th>Varices</th>\n",
       "      <th>Bilirubin</th>\n",
       "      <th>Alk phosphate</th>\n",
       "      <th>Sgot</th>\n",
       "      <th>Albumin</th>\n",
       "      <th>Protime</th>\n",
       "      <th>Histology</th>\n",
       "    </tr>\n",
       "  </thead>\n",
       "  <tbody>\n",
       "    <tr>\n",
       "      <th>0</th>\n",
       "      <td>2</td>\n",
       "      <td>30</td>\n",
       "      <td>2</td>\n",
       "      <td>1</td>\n",
       "      <td>2</td>\n",
       "      <td>2</td>\n",
       "      <td>2</td>\n",
       "      <td>2</td>\n",
       "      <td>1</td>\n",
       "      <td>2</td>\n",
       "      <td>2</td>\n",
       "      <td>2</td>\n",
       "      <td>2</td>\n",
       "      <td>2</td>\n",
       "      <td>1.00</td>\n",
       "      <td>85</td>\n",
       "      <td>18</td>\n",
       "      <td>4.0</td>\n",
       "      <td>?</td>\n",
       "      <td>1</td>\n",
       "    </tr>\n",
       "    <tr>\n",
       "      <th>1</th>\n",
       "      <td>2</td>\n",
       "      <td>50</td>\n",
       "      <td>1</td>\n",
       "      <td>1</td>\n",
       "      <td>2</td>\n",
       "      <td>1</td>\n",
       "      <td>2</td>\n",
       "      <td>2</td>\n",
       "      <td>1</td>\n",
       "      <td>2</td>\n",
       "      <td>2</td>\n",
       "      <td>2</td>\n",
       "      <td>2</td>\n",
       "      <td>2</td>\n",
       "      <td>0.90</td>\n",
       "      <td>135</td>\n",
       "      <td>42</td>\n",
       "      <td>3.5</td>\n",
       "      <td>?</td>\n",
       "      <td>1</td>\n",
       "    </tr>\n",
       "    <tr>\n",
       "      <th>2</th>\n",
       "      <td>2</td>\n",
       "      <td>78</td>\n",
       "      <td>1</td>\n",
       "      <td>2</td>\n",
       "      <td>2</td>\n",
       "      <td>1</td>\n",
       "      <td>2</td>\n",
       "      <td>2</td>\n",
       "      <td>2</td>\n",
       "      <td>2</td>\n",
       "      <td>2</td>\n",
       "      <td>2</td>\n",
       "      <td>2</td>\n",
       "      <td>2</td>\n",
       "      <td>0.70</td>\n",
       "      <td>96</td>\n",
       "      <td>32</td>\n",
       "      <td>4.0</td>\n",
       "      <td>?</td>\n",
       "      <td>1</td>\n",
       "    </tr>\n",
       "    <tr>\n",
       "      <th>3</th>\n",
       "      <td>2</td>\n",
       "      <td>31</td>\n",
       "      <td>1</td>\n",
       "      <td>?</td>\n",
       "      <td>1</td>\n",
       "      <td>2</td>\n",
       "      <td>2</td>\n",
       "      <td>2</td>\n",
       "      <td>2</td>\n",
       "      <td>2</td>\n",
       "      <td>2</td>\n",
       "      <td>2</td>\n",
       "      <td>2</td>\n",
       "      <td>2</td>\n",
       "      <td>0.70</td>\n",
       "      <td>46</td>\n",
       "      <td>52</td>\n",
       "      <td>4.0</td>\n",
       "      <td>80</td>\n",
       "      <td>1</td>\n",
       "    </tr>\n",
       "    <tr>\n",
       "      <th>4</th>\n",
       "      <td>2</td>\n",
       "      <td>34</td>\n",
       "      <td>1</td>\n",
       "      <td>2</td>\n",
       "      <td>2</td>\n",
       "      <td>2</td>\n",
       "      <td>2</td>\n",
       "      <td>2</td>\n",
       "      <td>2</td>\n",
       "      <td>2</td>\n",
       "      <td>2</td>\n",
       "      <td>2</td>\n",
       "      <td>2</td>\n",
       "      <td>2</td>\n",
       "      <td>1.00</td>\n",
       "      <td>?</td>\n",
       "      <td>200</td>\n",
       "      <td>4.0</td>\n",
       "      <td>?</td>\n",
       "      <td>1</td>\n",
       "    </tr>\n",
       "  </tbody>\n",
       "</table>\n",
       "</div>"
      ],
      "text/plain": [
       "   Class  Age  Sex Steroid  Antivrals Fatigue Malaise Anorexia Liver big  \\\n",
       "0      2   30    2       1          2       2       2        2         1   \n",
       "1      2   50    1       1          2       1       2        2         1   \n",
       "2      2   78    1       2          2       1       2        2         2   \n",
       "3      2   31    1       ?          1       2       2        2         2   \n",
       "4      2   34    1       2          2       2       2        2         2   \n",
       "\n",
       "  Liver firm Spleen palpable Spiders Ascites Varices Bilirubin Alk phosphate  \\\n",
       "0          2               2       2       2       2      1.00            85   \n",
       "1          2               2       2       2       2      0.90           135   \n",
       "2          2               2       2       2       2      0.70            96   \n",
       "3          2               2       2       2       2      0.70            46   \n",
       "4          2               2       2       2       2      1.00             ?   \n",
       "\n",
       "  Sgot Albumin Protime  Histology  \n",
       "0   18     4.0       ?          1  \n",
       "1   42     3.5       ?          1  \n",
       "2   32     4.0       ?          1  \n",
       "3   52     4.0      80          1  \n",
       "4  200     4.0       ?          1  "
      ]
     },
     "execution_count": 101,
     "metadata": {},
     "output_type": "execute_result"
    }
   ],
   "source": [
    "data.head()"
   ]
  },
  {
   "cell_type": "markdown",
   "metadata": {},
   "source": [
    "Удаляем столбец классов, заменяем пропущенные данные средним значением по столбцу и переназначаем идентификаторы классов."
   ]
  },
  {
   "cell_type": "code",
   "execution_count": 124,
   "metadata": {},
   "outputs": [],
   "source": [
    "x = data.drop(['Class'], axis=1)\n",
    "y = data['Class']\n",
    "x = x.replace('?', np.nan)\n",
    "y = y.replace(1, 0)\n",
    "y = y.replace(2, 1)\n",
    "for (colName, colData) in x.iteritems():\n",
    "    x[colName] = x[colName].astype(float)\n",
    "    x[colName] = x[colName].fillna(x[colName].mean())\n",
    "    \n",
    "scaler = MinMaxScaler()\n",
    "x = pd.DataFrame(scaler.fit_transform(x), columns = x.columns)"
   ]
  },
  {
   "cell_type": "markdown",
   "metadata": {},
   "source": [
    "Разбиваем выборку на обучающую и тестовую."
   ]
  },
  {
   "cell_type": "code",
   "execution_count": 291,
   "metadata": {},
   "outputs": [],
   "source": [
    "X_train, X_test, y_train, y_test = train_test_split(x, y, test_size=0.3,random_state=10)"
   ]
  },
  {
   "cell_type": "markdown",
   "metadata": {},
   "source": [
    "## KNN без балансировки"
   ]
  },
  {
   "cell_type": "code",
   "execution_count": 292,
   "metadata": {},
   "outputs": [
    {
     "name": "stdout",
     "output_type": "stream",
     "text": [
      "0.8297872340425532\n",
      "[[ 4  5]\n",
      " [ 3 35]]\n",
      "0.9210526315789473\n"
     ]
    }
   ],
   "source": [
    "knn_model = KNeighborsClassifier()\n",
    "\n",
    "neighbours = [i+1 for i in range(1, 15)]\n",
    "algorithm = ['ball_tree', 'kd_tree', 'brute']\n",
    "weights = ['uniform', 'distance']\n",
    "metric = ['euclidean', 'manhattan', 'chebyshev', 'minkowski']\n",
    "\n",
    "gs_clf = GridSearchCV(knn_model, param_grid={'n_neighbors': neighbours, 'algorithm': algorithm,\n",
    "                                             'weights': weights, 'metric': metric})\n",
    "\n",
    "gs_clf.fit(X_train, y_train)\n",
    "best_cv_err = 1 - gs_clf.best_score_\n",
    "best_param_neighbours = gs_clf.best_estimator_.n_neighbors\n",
    "best_param_algorithm = gs_clf.best_estimator_.algorithm\n",
    "best_param_weights = gs_clf.best_estimator_.weights\n",
    "best_param_metric = gs_clf.best_estimator_.metric\n",
    "\n",
    "knn_model = KNeighborsClassifier(n_neighbors=best_param_neighbours, algorithm=best_param_algorithm,\n",
    "                                 weights=best_param_weights, metric=best_param_metric)\n",
    "knn_model.fit(X_train, y_train)\n",
    "\n",
    "y_pred = knn_model.predict(X_test)\n",
    "\n",
    "KNN_acc = accuracy_score(y_test, y_pred)\n",
    "KNN_conf = confusion_matrix(y_test, y_pred)\n",
    "KNN_rec = recall_score(y_test, y_pred)\n",
    "print(KNN_acc)\n",
    "print(KNN_conf)\n",
    "print(KNN_rec)"
   ]
  },
  {
   "cell_type": "markdown",
   "metadata": {},
   "source": [
    "## SVM без балансировки"
   ]
  },
  {
   "cell_type": "code",
   "execution_count": 293,
   "metadata": {},
   "outputs": [
    {
     "name": "stdout",
     "output_type": "stream",
     "text": [
      "0.851063829787234\n",
      "[[ 6  3]\n",
      " [ 4 34]]\n",
      "0.8947368421052632\n"
     ]
    }
   ],
   "source": [
    "parameters = {'kernel': ['linear', 'rbf', 'poly', 'sigmoid'], 'C': [\n",
    "    0.001, 0.01, 0.1, 1, 10], 'gamma': [0.001, 0.01, 0.1, 1]}\n",
    "clf = GridSearchCV(svm.SVC(), parameters)\n",
    "clf.fit(X_train, y_train)\n",
    "\n",
    "sv = clf.best_estimator_\n",
    "\n",
    "sv.fit(X_train, y_train)\n",
    "y_pred = sv.predict(X_test)\n",
    "\n",
    "SVM_acc = accuracy_score(y_test, y_pred)\n",
    "SVM_conf = confusion_matrix(y_test, y_pred)\n",
    "SVM_rec = recall_score(y_test, y_pred)\n",
    "print(SVM_acc)\n",
    "print(SVM_conf)\n",
    "print(SVM_rec)"
   ]
  },
  {
   "cell_type": "markdown",
   "metadata": {},
   "source": [
    "## Random Forest без балансировки"
   ]
  },
  {
   "cell_type": "code",
   "execution_count": 294,
   "metadata": {},
   "outputs": [
    {
     "name": "stdout",
     "output_type": "stream",
     "text": [
      "0.8297872340425532\n",
      "[[ 4  5]\n",
      " [ 3 35]]\n",
      "0.9210526315789473\n"
     ]
    }
   ],
   "source": [
    "pipe = Pipeline([\n",
    "    ('scaler', StandardScaler()),\n",
    "    ('rf', RandomForestClassifier())\n",
    "])\n",
    "params = {\n",
    "    'rf__n_estimators': [120, 140],\n",
    "    'rf__max_depth': [30, 50],\n",
    "    'rf__min_samples_split': [2, 3],\n",
    "    'rf__min_samples_leaf': [3, 5],\n",
    "}\n",
    "\n",
    "RF_gs = GridSearchCV(pipe, param_grid=params, scoring='roc_auc', cv=3)\n",
    "RF_gs.fit(X_train, y_train)\n",
    "\n",
    "RF = RF_gs.best_estimator_\n",
    "RF.fit(X_train, y_train)\n",
    "\n",
    "y_pred = RF.predict(X_test)\n",
    "\n",
    "RF_acc = accuracy_score(y_test, y_pred)\n",
    "RF_conf = confusion_matrix(y_test, y_pred)\n",
    "RF_rec = recall_score(y_test, y_pred)\n",
    "print(RF_acc)\n",
    "print(RF_conf)\n",
    "print(RF_rec)"
   ]
  },
  {
   "cell_type": "markdown",
   "metadata": {},
   "source": [
    "## Производим балансировку классов."
   ]
  },
  {
   "cell_type": "code",
   "execution_count": 295,
   "metadata": {},
   "outputs": [],
   "source": [
    "smt = SMOTE(random_state=10)\n",
    "X_train, y_train = smt.fit_sample(X_train, y_train)"
   ]
  },
  {
   "cell_type": "markdown",
   "metadata": {},
   "source": [
    "### KNN с балансировкой"
   ]
  },
  {
   "cell_type": "code",
   "execution_count": 296,
   "metadata": {},
   "outputs": [
    {
     "name": "stdout",
     "output_type": "stream",
     "text": [
      "0.8297872340425532\n",
      "[[ 4  5]\n",
      " [ 3 35]]\n",
      "0.9210526315789473\n"
     ]
    }
   ],
   "source": [
    "gs_clf.fit(X_train, y_train)\n",
    "best_cv_err = 1 - gs_clf.best_score_\n",
    "best_param_neighbours = gs_clf.best_estimator_.n_neighbors\n",
    "best_param_algorithm = gs_clf.best_estimator_.algorithm\n",
    "best_param_weights = gs_clf.best_estimator_.weights\n",
    "best_param_metric = gs_clf.best_estimator_.metric\n",
    "\n",
    "knn_model = KNeighborsClassifier(n_neighbors=best_param_neighbours, algorithm=best_param_algorithm,\n",
    "                                 weights=best_param_weights, metric=best_param_metric)\n",
    "knn_model.fit(X_train, y_train)\n",
    "\n",
    "KNN_acc_b = accuracy_score(y_test, y_pred)\n",
    "KNN_conf_b = confusion_matrix(y_test, y_pred)\n",
    "KNN_rec_b = recall_score(y_test, y_pred)\n",
    "print(KNN_acc)\n",
    "print(KNN_conf)\n",
    "print(KNN_rec)"
   ]
  },
  {
   "cell_type": "markdown",
   "metadata": {},
   "source": [
    "### SVM с балансировкой"
   ]
  },
  {
   "cell_type": "code",
   "execution_count": 297,
   "metadata": {},
   "outputs": [
    {
     "name": "stdout",
     "output_type": "stream",
     "text": [
      "0.851063829787234\n",
      "[[ 6  3]\n",
      " [ 4 34]]\n",
      "0.8947368421052632\n"
     ]
    }
   ],
   "source": [
    "clf.fit(X_train, y_train)\n",
    "\n",
    "sv = clf.best_estimator_\n",
    "\n",
    "sv.fit(X_train, y_train)\n",
    "y_pred = sv.predict(X_test)\n",
    "\n",
    "SVM_acc_b = accuracy_score(y_test, y_pred)\n",
    "SVM_conf_b = confusion_matrix(y_test, y_pred)\n",
    "SVM_rec_b = recall_score(y_test, y_pred)\n",
    "print(SVM_acc)\n",
    "print(SVM_conf)\n",
    "print(SVM_rec)"
   ]
  },
  {
   "cell_type": "markdown",
   "metadata": {},
   "source": [
    "### Random Forest с балансировкой"
   ]
  },
  {
   "cell_type": "code",
   "execution_count": 298,
   "metadata": {},
   "outputs": [
    {
     "name": "stdout",
     "output_type": "stream",
     "text": [
      "0.8297872340425532\n",
      "[[ 4  5]\n",
      " [ 3 35]]\n",
      "0.9210526315789473\n"
     ]
    }
   ],
   "source": [
    "RF_gs.fit(X_train, y_train)\n",
    "\n",
    "RF = RF_gs.best_estimator_\n",
    "RF.fit(X_train, y_train)\n",
    "\n",
    "y_pred = RF.predict(X_test)\n",
    "\n",
    "RF_acc_b = accuracy_score(y_test, y_pred)\n",
    "RF_conf_b = confusion_matrix(y_test, y_pred)\n",
    "RF_rec_b = recall_score(y_test, y_pred)\n",
    "print(RF_acc)\n",
    "print(RF_conf)\n",
    "print(RF_rec)"
   ]
  },
  {
   "cell_type": "markdown",
   "metadata": {},
   "source": [
    "## Подготовим данные и  сравним результаты"
   ]
  },
  {
   "cell_type": "code",
   "execution_count": 299,
   "metadata": {},
   "outputs": [],
   "source": [
    "result_dic = {\"Default RF\": pd.Series([RF_acc, RF_conf, RF_rec], index=['accuracy_score', 'confusion_matrix', 'recall_score']), \n",
    "      \"Balansed RF\": pd.Series([RF_acc_b, RF_conf_b, RF_rec_b], index=['accuracy_score', 'confusion_matrix', 'recall_score']),\n",
    "      \"Default SVM\": pd.Series([SVM_acc, SVM_conf, SVM_rec], index=['accuracy_score', 'confusion_matrix', 'recall_score']),\n",
    "      \"Balansed SVM\": pd.Series([SVM_acc_b, SVM_conf_b, SVM_rec_b], index=['accuracy_score', 'confusion_matrix', 'recall_score']),   \n",
    "      \"Default KNN\": pd.Series([KNN_acc, KNN_conf, KNN_rec], index=['accuracy_score', 'confusion_matrix', 'recall_score']),   \n",
    "      \"Balansed KNN\": pd.Series([KNN_acc_b, KNN_conf_b, KNN_rec_b], index=['accuracy_score', 'confusion_matrix', 'recall_score'])}"
   ]
  },
  {
   "cell_type": "code",
   "execution_count": 300,
   "metadata": {},
   "outputs": [
    {
     "data": {
      "text/html": [
       "<div>\n",
       "<style scoped>\n",
       "    .dataframe tbody tr th:only-of-type {\n",
       "        vertical-align: middle;\n",
       "    }\n",
       "\n",
       "    .dataframe tbody tr th {\n",
       "        vertical-align: top;\n",
       "    }\n",
       "\n",
       "    .dataframe thead th {\n",
       "        text-align: right;\n",
       "    }\n",
       "</style>\n",
       "<table border=\"1\" class=\"dataframe\">\n",
       "  <thead>\n",
       "    <tr style=\"text-align: right;\">\n",
       "      <th></th>\n",
       "      <th>Default RF</th>\n",
       "      <th>Balansed RF</th>\n",
       "      <th>Default SVM</th>\n",
       "      <th>Balansed SVM</th>\n",
       "      <th>Default KNN</th>\n",
       "      <th>Balansed KNN</th>\n",
       "    </tr>\n",
       "  </thead>\n",
       "  <tbody>\n",
       "    <tr>\n",
       "      <th>accuracy_score</th>\n",
       "      <td>0.829787</td>\n",
       "      <td>0.808511</td>\n",
       "      <td>0.851064</td>\n",
       "      <td>0.808511</td>\n",
       "      <td>0.829787</td>\n",
       "      <td>0.829787</td>\n",
       "    </tr>\n",
       "    <tr>\n",
       "      <th>confusion_matrix</th>\n",
       "      <td>[[4, 5], [3, 35]]</td>\n",
       "      <td>[[7, 2], [7, 31]]</td>\n",
       "      <td>[[6, 3], [4, 34]]</td>\n",
       "      <td>[[3, 6], [3, 35]]</td>\n",
       "      <td>[[4, 5], [3, 35]]</td>\n",
       "      <td>[[4, 5], [3, 35]]</td>\n",
       "    </tr>\n",
       "    <tr>\n",
       "      <th>recall_score</th>\n",
       "      <td>0.921053</td>\n",
       "      <td>0.815789</td>\n",
       "      <td>0.894737</td>\n",
       "      <td>0.921053</td>\n",
       "      <td>0.921053</td>\n",
       "      <td>0.921053</td>\n",
       "    </tr>\n",
       "  </tbody>\n",
       "</table>\n",
       "</div>"
      ],
      "text/plain": [
       "                         Default RF        Balansed RF        Default SVM  \\\n",
       "accuracy_score             0.829787           0.808511           0.851064   \n",
       "confusion_matrix  [[4, 5], [3, 35]]  [[7, 2], [7, 31]]  [[6, 3], [4, 34]]   \n",
       "recall_score               0.921053           0.815789           0.894737   \n",
       "\n",
       "                       Balansed SVM        Default KNN       Balansed KNN  \n",
       "accuracy_score             0.808511           0.829787           0.829787  \n",
       "confusion_matrix  [[3, 6], [3, 35]]  [[4, 5], [3, 35]]  [[4, 5], [3, 35]]  \n",
       "recall_score               0.921053           0.921053           0.921053  "
      ]
     },
     "execution_count": 300,
     "metadata": {},
     "output_type": "execute_result"
    }
   ],
   "source": [
    "result = pd.DataFrame(result_dic)\n",
    "result"
   ]
  },
  {
   "cell_type": "markdown",
   "metadata": {},
   "source": [
    "**Вывод:** как видно из таблицы - балансировка классов улучшила результаты только для алгоритма SVM."
   ]
  }
 ],
 "metadata": {
  "kernelspec": {
   "display_name": "Python 3",
   "language": "python",
   "name": "python3"
  },
  "language_info": {
   "codemirror_mode": {
    "name": "ipython",
    "version": 3
   },
   "file_extension": ".py",
   "mimetype": "text/x-python",
   "name": "python",
   "nbconvert_exporter": "python",
   "pygments_lexer": "ipython3",
   "version": "3.6.9"
  }
 },
 "nbformat": 4,
 "nbformat_minor": 4
}
